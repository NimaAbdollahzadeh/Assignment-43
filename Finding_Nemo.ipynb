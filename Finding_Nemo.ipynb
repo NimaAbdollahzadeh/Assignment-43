{
 "cells": [
  {
   "cell_type": "code",
   "execution_count": 3,
   "metadata": {},
   "outputs": [],
   "source": [
    "%matplotlib qt"
   ]
  },
  {
   "cell_type": "code",
   "execution_count": 4,
   "metadata": {},
   "outputs": [],
   "source": [
    "import numpy as np\n",
    "import matplotlib.pyplot as plt\n",
    "import cv2"
   ]
  },
  {
   "cell_type": "code",
   "execution_count": null,
   "metadata": {},
   "outputs": [],
   "source": [
    "nemo = cv2.imread(\"D:/nima/nemo.jpg\")\n",
    "nemo = cv2.resize(nemo, (0, 0), fx=0.25, fy=0.25)\n",
    "nemo = cv2.cvtColor(nemo, cv2.COLOR_BGR2RGB)\n",
    "plt.imshow(nemo)"
   ]
  },
  {
   "cell_type": "code",
   "execution_count": 17,
   "metadata": {},
   "outputs": [],
   "source": [
    "pixel_colors = nemo.reshape((nemo.shape[0]*nemo.shape[1], 3)) / 255.0\n",
    "R, G, B = cv2.split(nemo)\n",
    "\n",
    "fig = plt.figure(figsize=(12, 6))\n",
    "axis = fig.add_subplot(1, 1, 1, projection=\"3d\")\n",
    "axis.scatter(R.flatten(), G.flatten(), B.flatten(), facecolors=pixel_colors, marker='.')\n",
    "axis.set_xlabel(\"Red\")\n",
    "axis.set_ylabel(\"Green\")\n",
    "axis.set_zlabel(\"Blue\")\n",
    "plt.show()"
   ]
  },
  {
   "cell_type": "code",
   "execution_count": 18,
   "metadata": {},
   "outputs": [],
   "source": [
    "nemo_hsv = cv2.cvtColor(nemo, cv2.COLOR_RGB2HSV)\n",
    "H, S, V = cv2.split(nemo_hsv)\n",
    "\n",
    "fig = plt.figure(figsize=(12, 6))\n",
    "axis = fig.add_subplot(1, 1, 1, projection=\"3d\")\n",
    "axis.scatter(H.flatten(), S.flatten(), V.flatten(), facecolor=pixel_colors, marker='.')\n",
    "axis.set_xlabel(\"Hue\")\n",
    "axis.set_ylabel(\"Saturation\")\n",
    "axis.set_zlabel(\"Value\")\n",
    "plt.show()"
   ]
  },
  {
   "cell_type": "code",
   "execution_count": 19,
   "metadata": {},
   "outputs": [],
   "source": [
    "light_orange = (1, 190, 200)\n",
    "dark_orange = (18, 255, 255)\n",
    "\n",
    "mask_orange = cv2.inRange(nemo_hsv, light_orange, dark_orange)\n",
    "result = cv2.bitwise_and(nemo, nemo, mask=mask_orange)\n",
    "\n",
    "plt.subplot(1, 2, 1)\n",
    "plt.imshow(mask_orange, cmap='gray')\n",
    "plt.subplot(1, 2, 2)\n",
    "plt.imshow(result)\n",
    "plt.show()"
   ]
  },
  {
   "cell_type": "code",
   "execution_count": 20,
   "metadata": {},
   "outputs": [],
   "source": [
    "light_white = (0, 0, 200)\n",
    "dark_white = (145, 60, 255)\n",
    "\n",
    "mask_white = cv2.inRange(nemo_hsv, light_white, dark_white)\n",
    "\n",
    "result = cv2.bitwise_and(nemo, nemo, mask=mask_white)\n",
    "\n",
    "plt.subplot(1, 2, 1)\n",
    "plt.imshow(mask_white, cmap='gray')\n",
    "plt.subplot(1, 2, 2)\n",
    "plt.imshow(result)\n",
    "plt.show()"
   ]
  },
  {
   "cell_type": "code",
   "execution_count": 39,
   "metadata": {},
   "outputs": [],
   "source": [
    "final_mask = mask_orange + mask_white\n",
    "\n",
    "final_result = cv2.bitwise_and(nemo, nemo, mask=final_mask)\n",
    "\n",
    "plt.subplot(1, 2, 1)\n",
    "plt.imshow(final_mask, cmap='gray')\n",
    "plt.subplot(1, 2, 2)\n",
    "plt.imshow(final_result)\n",
    "plt.show()"
   ]
  },
  {
   "cell_type": "code",
   "execution_count": null,
   "metadata": {},
   "outputs": [],
   "source": [
    "X_train = np.array([H.flatten(), S.flatten(), V.flatten()]).T\n",
    "Y_train = np.zeros((nemo.shape[0]*nemo.shape[1], 1))\n",
    "indexes = np.where(final_mask.flatten() != 0)\n",
    "indexes = indexes[0]\n",
    "\n",
    "Y_train[indexes] = 1\n",
    "Y_train = Y_train.astype(dtype='uint8').flatten()\n",
    "\n",
    "print(Y_train.shape)\n",
    "Y_train"
   ]
  },
  {
   "cell_type": "code",
   "execution_count": 42,
   "metadata": {},
   "outputs": [
    {
     "data": {
      "text/plain": [
       "<matplotlib.image.AxesImage at 0x20fceae5050>"
      ]
     },
     "execution_count": 42,
     "metadata": {},
     "output_type": "execute_result"
    }
   ],
   "source": [
    "from KNN import KNN\n",
    "my_knn = KNN(k=15)\n",
    "my_knn.fit(X_train, Y_train)\n",
    "dashe_nemo = cv2.imread(\"D:/nima/dashe-nemo.jpg\")\n",
    "dashe_nemo = cv2.resize(dashe_nemo, (0, 0), fx=0.1, fy=0.1)\n",
    "dashe_nemo = cv2.cvtColor(dashe_nemo, cv2.COLOR_BGR2RGB)\n",
    "\n",
    "plt.imshow(dashe_nemo)"
   ]
  },
  {
   "cell_type": "code",
   "execution_count": 43,
   "metadata": {},
   "outputs": [
    {
     "data": {
      "text/plain": [
       "array([0, 0, 0, ..., 0, 0, 0], dtype=int64)"
      ]
     },
     "execution_count": 43,
     "metadata": {},
     "output_type": "execute_result"
    }
   ],
   "source": [
    "dashe_nemo_hsv = cv2.cvtColor(dashe_nemo, cv2.COLOR_RGB2HSV)\n",
    "X_test = nemo_brother_hsv.reshape(dashe_nemo_hsv.shape[0]*dashe_nemo_hsv.shape[1], 3)\n",
    "answer = my_knn.predict(X_test)\n",
    "answer"
   ]
  },
  {
   "cell_type": "code",
   "execution_count": 44,
   "metadata": {},
   "outputs": [],
   "source": [
    "test_mask = answer.reshape((dashe_nemo_hsv.shape[0], dashe_nemo_hsv.shape[1])).astype(\"uint8\")\n",
    "test_result = cv2.bitwise_and(dashe_nemo, nemo_brother, mask=test_mask)\n",
    "\n",
    "fig = plt.figure(figsize=(8, 8))\n",
    "plt.subplot(1, 2, 1)\n",
    "plt.imshow(test_mask, cmap='gray')\n",
    "plt.subplot(1, 2, 2)\n",
    "plt.imshow(test_result)\n",
    "plt.show()"
   ]
  }
 ],
 "metadata": {
  "kernelspec": {
   "display_name": "Python 3",
   "language": "python",
   "name": "python3"
  },
  "language_info": {
   "codemirror_mode": {
    "name": "ipython",
    "version": 3
   },
   "file_extension": ".py",
   "mimetype": "text/x-python",
   "name": "python",
   "nbconvert_exporter": "python",
   "pygments_lexer": "ipython3",
   "version": "3.11.4"
  },
  "orig_nbformat": 4
 },
 "nbformat": 4,
 "nbformat_minor": 2
}
