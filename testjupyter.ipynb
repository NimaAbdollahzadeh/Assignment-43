{
 "cells": [
  {
   "cell_type": "code",
   "execution_count": 12,
   "metadata": {},
   "outputs": [],
   "source": [
    "%matplotlib qt"
   ]
  },
  {
   "cell_type": "code",
   "execution_count": 13,
   "metadata": {},
   "outputs": [],
   "source": [
    "import numpy as np\n",
    "import pandas as pd\n",
    "import matplotlib.pyplot as plt\n",
    "from sklearn.datasets import load_iris\n",
    "from sklearn.model_selection import train_test_split\n",
    "from sklearn.neighbors import KNeighborsClassifier\n",
    "import cv2"
   ]
  },
  {
   "cell_type": "code",
   "execution_count": 14,
   "metadata": {},
   "outputs": [],
   "source": [
    "nemo = cv2.imread(\"D:/nima/nemo.jpg\")\n",
    "nemo = cv2.resize(nemo, (0,0), fx=0.25, fy=0.25)\n",
    "nemo = cv2.cvtColor(nemo, cv2 .COLOR_BGR2RGB)\n",
    "plt.imshow(nemo)\n",
    "plt.show()"
   ]
  },
  {
   "cell_type": "code",
   "execution_count": 20,
   "metadata": {},
   "outputs": [],
   "source": [
    "pixels_list_rgb = nemo.reshape(-1, 3)\n",
    "\n",
    "pixels_list_rgb.shape\n",
    "\n",
    "fig = plt.figure(figsize=(8, 8))\n",
    "\n",
    "ax = fig.add_subplot(111, projection = '3d')\n",
    "\n",
    "ax.scatter(pixels_list_rgb[:, 0], pixels_list_rgb[:, 1], pixels_list_rgb[:, 2], c = pixels_list_rgb / 255)\n",
    "\n",
    "plt.show()"
   ]
  },
  {
   "cell_type": "code",
   "execution_count": 21,
   "metadata": {},
   "outputs": [],
   "source": [
    "nemo_hsv = cv2.cvtColor(nemo, cv2.COLOR_BGR2HSV)"
   ]
  },
  {
   "cell_type": "code",
   "execution_count": 39,
   "metadata": {},
   "outputs": [],
   "source": [
    "pixels_list_hsv = nemo_hsv.reshape(-1, 3)\n",
    "\n",
    "fig = plt.figure(figsize =(8, 8))\n",
    "\n",
    "ax = fig.add_subplot(111, projection = '3d')\n",
    "\n",
    "ax.scatter(pixels_list_hsv[:, 0], pixels_list_hsv[:, 1], pixels_list_hsv[:, 2], c = pixels_list_rgb / 255)\n",
    "\n",
    "ax.set_xlabel('Hue')\n",
    "ax.set_ylabel('Saturation')\n",
    "ax.set_zlabel('Value')\n",
    "\n",
    "plt.show()"
   ]
  },
  {
   "cell_type": "code",
   "execution_count": 46,
   "metadata": {},
   "outputs": [],
   "source": [
    "light_orange = (1, 190, 200)\n",
    "\n",
    "dark_orange = (18, 255, 255)\n",
    "\n",
    "mask_orange = cv2.inRange(nemo_hsv, light_orange, dark_orange)\n",
    "\n",
    "plt.imshow(mask_orange , cmap='gray')\n",
    "\n",
    "plt.show()"
   ]
  },
  {
   "cell_type": "code",
   "execution_count": 34,
   "metadata": {},
   "outputs": [],
   "source": [
    "light_white = (0, 0, 200)\n",
    "\n",
    "dark_white = (145, 60, 255)\n",
    "\n",
    "mask_white = cv2.inRange(nemo_hsv, light_white, dark_white)\n",
    "\n",
    "plt.imshow(mask_white, cmap='gray')\n",
    "\n",
    "plt.show()\n"
   ]
  },
  {
   "cell_type": "code",
   "execution_count": 43,
   "metadata": {},
   "outputs": [],
   "source": [
    "final_mask = mask_orange + mask_white\n",
    "\n",
    "plt.imshow(final_mask, cmap = 'gray')\n",
    "\n",
    "plt.show()"
   ]
  },
  {
   "cell_type": "code",
   "execution_count": 44,
   "metadata": {},
   "outputs": [],
   "source": [
    "final_result = cv2.bitwise_and(nemo, nemo, mask = final_mask)\n",
    "\n",
    "plt.imshow(final_result)\n",
    "\n",
    "plt.show()"
   ]
  },
  {
   "cell_type": "code",
   "execution_count": null,
   "metadata": {},
   "outputs": [],
   "source": [
    "X_train = pixels_list_hsv / 255\n",
    "X_train.shape"
   ]
  },
  {
   "cell_type": "code",
   "execution_count": null,
   "metadata": {},
   "outputs": [],
   "source": [
    "Y_train = final_mask.reshape(-1, 1) / 255\n",
    "Y_train.shape"
   ]
  },
  {
   "cell_type": "code",
   "execution_count": null,
   "metadata": {},
   "outputs": [],
   "source": [
    "knn = KNeighborsClassifier(n_neighbors= 3)\n",
    "\n",
    "knn.fit(X_train, Y_train)"
   ]
  },
  {
   "cell_type": "code",
   "execution_count": null,
   "metadata": {},
   "outputs": [],
   "source": [
    "new_pixel = np.array([10, 200, 255]) / 255\n",
    "knn.predict([new_pixel])"
   ]
  },
  {
   "cell_type": "code",
   "execution_count": 64,
   "metadata": {},
   "outputs": [],
   "source": [
    "dashe_nemo = cv2.imread('D:/nima/dashe-nemo.jpg')\n",
    "\n",
    "dashe_nemo = cv2.resize(dashe_nemo, (0, 0), fx=0.25, fy=0.25)\n",
    "\n",
    "dashe_nemo = cv2.cvtColor(dashe_nemo, cv2.COLOR_BGR2RGB)\n",
    "\n",
    "plt.imshow(nemo)\n",
    "\n",
    "plt.show()"
   ]
  },
  {
   "cell_type": "code",
   "execution_count": null,
   "metadata": {},
   "outputs": [],
   "source": [
    "dashe_nemo_hsv = cv2.cvtColor(dashe_nemo, cv2.COLOR_BGR2HSV)\n",
    "\n",
    "dashe_nemo_hsv.shape"
   ]
  }
 ],
 "metadata": {
  "kernelspec": {
   "display_name": "Python 3",
   "language": "python",
   "name": "python3"
  },
  "language_info": {
   "codemirror_mode": {
    "name": "ipython",
    "version": 3
   },
   "file_extension": ".py",
   "mimetype": "text/x-python",
   "name": "python",
   "nbconvert_exporter": "python",
   "pygments_lexer": "ipython3",
   "version": "3.11.4"
  },
  "orig_nbformat": 4
 },
 "nbformat": 4,
 "nbformat_minor": 2
}
