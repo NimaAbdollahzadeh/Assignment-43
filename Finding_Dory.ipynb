{
 "cells": [
  {
   "cell_type": "code",
   "execution_count": 32,
   "metadata": {},
   "outputs": [],
   "source": [
    "%matplotlib qt"
   ]
  },
  {
   "cell_type": "code",
   "execution_count": 33,
   "metadata": {},
   "outputs": [],
   "source": [
    "import numpy as np\n",
    "import matplotlib.pyplot as plt\n",
    "import cv2"
   ]
  },
  {
   "cell_type": "code",
   "execution_count": 34,
   "metadata": {},
   "outputs": [
    {
     "data": {
      "text/plain": [
       "<matplotlib.image.AxesImage at 0x22bb8a77ad0>"
      ]
     },
     "execution_count": 34,
     "metadata": {},
     "output_type": "execute_result"
    }
   ],
   "source": [
    "Dory = cv2.imread('D:/nima/abjie-nemo.jpg')\n",
    "Dory = cv2.resize(Dory, (0,0), fx=0.25, fy=0.25)\n",
    "Dory = cv2.cvtColor(Dory, cv2.COLOR_BGR2RGB)\n",
    "plt.imshow(Dory)"
   ]
  },
  {
   "cell_type": "code",
   "execution_count": 35,
   "metadata": {},
   "outputs": [],
   "source": [
    "pixel_colors = Dory.reshape((Dory.shape[0]*Dory.shape[1], 3)) / 255.0\n",
    "R, G, B = cv2.split(Dory)\n",
    "\n",
    "fig = plt.figure(figsize=(12, 6))\n",
    "axis = fig.add_subplot(1, 1, 1, projection=\"3d\")\n",
    "axis.scatter(R.flatten(), G.flatten(), B.flatten(), facecolors=pixel_colors, marker='.')\n",
    "axis.set_xlabel(\"Red\")\n",
    "axis.set_ylabel(\"Green\")\n",
    "axis.set_zlabel(\"Blue\")\n",
    "plt.show()"
   ]
  },
  {
   "cell_type": "code",
   "execution_count": 36,
   "metadata": {},
   "outputs": [],
   "source": [
    "Dory_hsv = cv2.cvtColor(Dory, cv2.COLOR_RGB2HSV)\n",
    "H, S, V = cv2.split(Dory_hsv)\n",
    "\n",
    "fig = plt.figure(figsize=(12, 6))\n",
    "axis = fig.add_subplot(1, 1, 1 , projection= '3d')\n",
    "axis.scatter(H.flatten(), S.flatten(), V.flatten(), facecolor=pixel_colors, marker= '.')\n",
    "axis.set_xlabel('Hue')\n",
    "axis.set_ylabel('Saturation')\n",
    "axis.set_zlabel('Value')\n",
    "plt.show()"
   ]
  },
  {
   "cell_type": "code",
   "execution_count": 37,
   "metadata": {},
   "outputs": [
    {
     "name": "stderr",
     "output_type": "stream",
     "text": [
      "C:\\Users\\sajad\\AppData\\Local\\Temp\\ipykernel_7692\\1826055044.py:7: MatplotlibDeprecationWarning: Auto-removal of overlapping axes is deprecated since 3.6 and will be removed two minor releases later; explicitly call ax.remove() as needed.\n",
      "  plt.subplot(1, 2, 1)\n"
     ]
    }
   ],
   "source": [
    "light_orange = (1, 190, 200)\n",
    "dark_orange = (18, 255, 255)\n",
    "\n",
    "mask_orange = cv2.inRange(Dory_hsv, light_orange, dark_orange)\n",
    "result = cv2.bitwise_and(Dory, Dory, mask= mask_orange)\n",
    "\n",
    "plt.subplot(1, 2, 1)\n",
    "plt.imshow(mask_orange, cmap= 'gray')\n",
    "plt.subplot(1, 2, 2)\n",
    "plt.imshow(result)\n",
    "plt.show()"
   ]
  },
  {
   "cell_type": "code",
   "execution_count": 38,
   "metadata": {},
   "outputs": [],
   "source": [
    "light_white = (0, 0, 200)\n",
    "dark_white = (145, 60, 255)\n",
    "\n",
    "mask_white = cv2.inRange(Dory_hsv, light_white, dark_white)\n",
    "result = cv2.bitwise_and(Dory, Dory, mask= mask_white)\n",
    "\n",
    "plt.subplot(1, 2, 1)\n",
    "plt.imshow(mask_white, cmap='gray')\n",
    "plt.subplot(1, 2, 2)\n",
    "plt.imshow(result)\n",
    "plt.show()"
   ]
  },
  {
   "cell_type": "code",
   "execution_count": 39,
   "metadata": {},
   "outputs": [],
   "source": [
    "final_mask = mask_orange + mask_white\n",
    "\n",
    "final_result = cv2.bitwise_and(Dory, Dory, mask=final_mask)\n",
    "\n",
    "plt.subplot(1, 2, 1)\n",
    "plt.imshow(final_mask, cmap='gray')\n",
    "plt.subplot(1, 2, 2)\n",
    "plt.imshow(final_result)\n",
    "plt.show()"
   ]
  },
  {
   "cell_type": "code",
   "execution_count": null,
   "metadata": {},
   "outputs": [],
   "source": [
    "X_train = np.array([H.flatten(), S.flatten(), V.flatten()]).T\n",
    "Y_train = np.zeros((Dory.shape[0]*Dory.shape[1], 1))\n",
    "indexes = np.where(final_mask.flatten() != 0)\n",
    "indexes = indexes[0]\n",
    "\n",
    "Y_train[indexes] = 1\n",
    "Y_train = Y_train.astype(dtype='uint8').flatten()\n",
    "\n",
    "print(Y_train.shape)\n",
    "Y_train"
   ]
  },
  {
   "cell_type": "code",
   "execution_count": 45,
   "metadata": {},
   "outputs": [],
   "source": [
    "from KNN import KNN\n",
    "\n",
    "my_knn = KNN(k=20)\n",
    "my_knn.fit(X_train, Y_train)\n"
   ]
  }
 ],
 "metadata": {
  "kernelspec": {
   "display_name": "Python 3",
   "language": "python",
   "name": "python3"
  },
  "language_info": {
   "codemirror_mode": {
    "name": "ipython",
    "version": 3
   },
   "file_extension": ".py",
   "mimetype": "text/x-python",
   "name": "python",
   "nbconvert_exporter": "python",
   "pygments_lexer": "ipython3",
   "version": "3.11.4"
  },
  "orig_nbformat": 4
 },
 "nbformat": 4,
 "nbformat_minor": 2
}
